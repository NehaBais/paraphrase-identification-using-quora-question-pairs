{
 "cells": [
  {
   "cell_type": "markdown",
   "metadata": {},
   "source": [
    "## Data Regularization using Data Augmentation"
   ]
  },
  {
   "cell_type": "markdown",
   "metadata": {},
   "source": [
    "### Import packages"
   ]
  },
  {
   "cell_type": "code",
   "execution_count": 1,
   "metadata": {},
   "outputs": [],
   "source": [
    "from fasttext import util as fasttext_utils\n",
    "from itertools import combinations\n",
    "import networkx as nx\n",
    "import pandas as pd\n",
    "import numpy as np\n",
    "import fasttext\n",
    "import os\n",
    "import io"
   ]
  },
  {
   "cell_type": "code",
   "execution_count": 2,
   "metadata": {},
   "outputs": [],
   "source": [
    "RAW_DATA_FOLDER = \"raw_data\"\n",
    "STAGING_DATA_FOLDER = \"staging_data\"\n",
    "CLEAN_DATA_FOLDER = \"clean_data\""
   ]
  },
  {
   "cell_type": "markdown",
   "metadata": {},
   "source": [
    "### Load the question pairs to a dataframe"
   ]
  },
  {
   "cell_type": "code",
   "execution_count": 3,
   "metadata": {},
   "outputs": [],
   "source": [
    "# q_pairs = pd.read_csv(os.path.join(STAGING_DATA_FOLDER, \"question_pairs.csv\"), index_col=\"id\")\n",
    "train_df = pd.read_csv(os.path.join(STAGING_DATA_FOLDER, \"train.csv\")) # updated\n",
    "validation_df = pd.read_csv(os.path.join(STAGING_DATA_FOLDER, \"validation.csv\")) # updated"
   ]
  },
  {
   "cell_type": "markdown",
   "metadata": {},
   "source": [
    "### Generate edges from the question pairs"
   ]
  },
  {
   "cell_type": "code",
   "execution_count": 4,
   "metadata": {},
   "outputs": [],
   "source": [
    "# qids = (\n",
    "#     q_pairs[[\"qid1\", \"qid2\", \"is_duplicate\"]]\n",
    "#     .sort_values([\"qid1\", \"qid2\"])\n",
    "#     .to_numpy()\n",
    "#     .tolist()\n",
    "# )\n",
    "qids = (\n",
    "    train_df[[\"qid1\", \"qid2\", \"is_duplicate\"]]\n",
    "    .sort_values([\"qid1\", \"qid2\"])\n",
    "    .to_numpy()\n",
    "    .tolist()\n",
    ") # qids is a list of tuples and each tuple corresponds to a row in the question pairs dataframe and is of the format (qid1, qid2, is_duplicate)\n",
    "edges = []\n",
    "for qid1, qid2, is_duplicate in qids:\n",
    "    if is_duplicate:\n",
    "        edges.append([qid1, qid2]) # edges is a list of tuple where each tuple is qid1 and qid2. we are only including tuples whose id_duplicate = 1"
   ]
  },
  {
   "cell_type": "markdown",
   "metadata": {},
   "source": [
    "### Generate Graph from the edges"
   ]
  },
  {
   "cell_type": "code",
   "execution_count": 5,
   "metadata": {},
   "outputs": [],
   "source": [
    "G = nx.Graph() # nx is a graph creation utility. Here we are declaring an empty undirected graph.\n",
    "G.add_edges_from(edges) # Add all the edges from above to populate our graph.\n",
    "edges = list(G.edges)\n",
    "nodes = list(G.nodes)\n",
    "components = list(nx.connected_components(G))"
   ]
  },
  {
   "cell_type": "code",
   "execution_count": 6,
   "metadata": {},
   "outputs": [
    {
     "data": {
      "text/plain": [
       "[{11, 12},\n",
       " {25, 26, 114035},\n",
       " {27, 28, 50277},\n",
       " {31,\n",
       "  32,\n",
       "  1100,\n",
       "  1101,\n",
       "  2066,\n",
       "  2067,\n",
       "  6079,\n",
       "  6080,\n",
       "  6937,\n",
       "  6938,\n",
       "  7751,\n",
       "  7752,\n",
       "  8577,\n",
       "  8578,\n",
       "  11434,\n",
       "  11435,\n",
       "  12544,\n",
       "  16474,\n",
       "  17171,\n",
       "  24203,\n",
       "  24204,\n",
       "  24960,\n",
       "  32509,\n",
       "  32957,\n",
       "  36835,\n",
       "  36836,\n",
       "  37617,\n",
       "  38502,\n",
       "  44686,\n",
       "  46127,\n",
       "  51528,\n",
       "  53535,\n",
       "  64848,\n",
       "  77287,\n",
       "  81385,\n",
       "  83195,\n",
       "  88834,\n",
       "  93145,\n",
       "  93146,\n",
       "  100431,\n",
       "  106091,\n",
       "  120229,\n",
       "  132922,\n",
       "  140488,\n",
       "  140581,\n",
       "  167907,\n",
       "  218253,\n",
       "  221900,\n",
       "  249733,\n",
       "  258354,\n",
       "  333813,\n",
       "  528360},\n",
       " {33, 34}]"
      ]
     },
     "execution_count": 6,
     "metadata": {},
     "output_type": "execute_result"
    }
   ],
   "source": [
    "components[:5]"
   ]
  },
  {
   "cell_type": "markdown",
   "metadata": {},
   "source": [
    "### Drop trivial components (number of nodes in component is 2)"
   ]
  },
  {
   "cell_type": "code",
   "execution_count": 7,
   "metadata": {},
   "outputs": [],
   "source": [
    "components = [x for x in components if len(x) != 2]"
   ]
  },
  {
   "cell_type": "code",
   "execution_count": 8,
   "metadata": {},
   "outputs": [
    {
     "data": {
      "text/plain": [
       "[{25, 26, 114035},\n",
       " {27, 28, 50277},\n",
       " {31,\n",
       "  32,\n",
       "  1100,\n",
       "  1101,\n",
       "  2066,\n",
       "  2067,\n",
       "  6079,\n",
       "  6080,\n",
       "  6937,\n",
       "  6938,\n",
       "  7751,\n",
       "  7752,\n",
       "  8577,\n",
       "  8578,\n",
       "  11434,\n",
       "  11435,\n",
       "  12544,\n",
       "  16474,\n",
       "  17171,\n",
       "  24203,\n",
       "  24204,\n",
       "  24960,\n",
       "  32509,\n",
       "  32957,\n",
       "  36835,\n",
       "  36836,\n",
       "  37617,\n",
       "  38502,\n",
       "  44686,\n",
       "  46127,\n",
       "  51528,\n",
       "  53535,\n",
       "  64848,\n",
       "  77287,\n",
       "  81385,\n",
       "  83195,\n",
       "  88834,\n",
       "  93145,\n",
       "  93146,\n",
       "  100431,\n",
       "  106091,\n",
       "  120229,\n",
       "  132922,\n",
       "  140488,\n",
       "  140581,\n",
       "  167907,\n",
       "  218253,\n",
       "  221900,\n",
       "  249733,\n",
       "  258354,\n",
       "  333813,\n",
       "  528360},\n",
       " {37,\n",
       "  38,\n",
       "  1357,\n",
       "  1358,\n",
       "  2374,\n",
       "  2375,\n",
       "  4407,\n",
       "  4408,\n",
       "  4950,\n",
       "  4951,\n",
       "  5041,\n",
       "  5042,\n",
       "  6551,\n",
       "  6552,\n",
       "  10957,\n",
       "  10958,\n",
       "  12638,\n",
       "  12639,\n",
       "  14772,\n",
       "  17258,\n",
       "  17259,\n",
       "  17506,\n",
       "  17507,\n",
       "  17811,\n",
       "  17812,\n",
       "  17854,\n",
       "  18276,\n",
       "  18277,\n",
       "  18296,\n",
       "  18629,\n",
       "  19621,\n",
       "  19789,\n",
       "  20096,\n",
       "  20128,\n",
       "  21374,\n",
       "  21712,\n",
       "  21713,\n",
       "  22873,\n",
       "  26053,\n",
       "  26054,\n",
       "  26184,\n",
       "  26185,\n",
       "  27517,\n",
       "  28236,\n",
       "  28639,\n",
       "  29331,\n",
       "  31868,\n",
       "  32032,\n",
       "  32200,\n",
       "  33412,\n",
       "  35498,\n",
       "  37698,\n",
       "  38315,\n",
       "  42108,\n",
       "  43745,\n",
       "  44331,\n",
       "  47020,\n",
       "  47485,\n",
       "  48053,\n",
       "  50856,\n",
       "  54749,\n",
       "  59367,\n",
       "  61018,\n",
       "  61999,\n",
       "  62000,\n",
       "  67545,\n",
       "  69550,\n",
       "  82345,\n",
       "  88660,\n",
       "  96383,\n",
       "  107900,\n",
       "  107901,\n",
       "  126808,\n",
       "  299458,\n",
       "  362592},\n",
       " {46, 134030, 134031, 271267}]"
      ]
     },
     "execution_count": 8,
     "metadata": {},
     "output_type": "execute_result"
    }
   ],
   "source": [
    "components[:5]"
   ]
  },
  {
   "cell_type": "markdown",
   "metadata": {},
   "source": [
    "### Generate all potential edges\n",
    "\n",
    "for each component, identify all potential edges, and only choose edges which don't have a direct path in the component"
   ]
  },
  {
   "cell_type": "code",
   "execution_count": 9,
   "metadata": {},
   "outputs": [],
   "source": [
    "def can_add_edge(G, u, v):\n",
    "    if G.has_edge(u, v) or G.has_edge(v, u):\n",
    "        # Edge already exists\n",
    "        return False\n",
    "    if nx.has_path(G, u, v) or nx.has_path(G, v, u):\n",
    "        # Adding this edge doesn't connect different components\n",
    "        return True\n",
    "    return False"
   ]
  },
  {
   "cell_type": "code",
   "execution_count": 10,
   "metadata": {},
   "outputs": [],
   "source": [
    "new_edges = []\n",
    "for component in components:\n",
    "    potential_edges = combinations(sorted(component), 2)\n",
    "    for u, v in potential_edges:\n",
    "        if can_add_edge(G, u, v):\n",
    "            new_edges.append((u, v))"
   ]
  },
  {
   "cell_type": "markdown",
   "metadata": {},
   "source": [
    "### These are the number of new edges (duplicate question pairs)"
   ]
  },
  {
   "cell_type": "code",
   "execution_count": 11,
   "metadata": {},
   "outputs": [
    {
     "data": {
      "text/plain": [
       "91227"
      ]
     },
     "execution_count": 11,
     "metadata": {},
     "output_type": "execute_result"
    }
   ],
   "source": [
    "len(new_edges)"
   ]
  },
  {
   "cell_type": "markdown",
   "metadata": {},
   "source": [
    "### Add the new edges to question pairs"
   ]
  },
  {
   "cell_type": "code",
   "execution_count": 12,
   "metadata": {},
   "outputs": [],
   "source": [
    "df = pd.DataFrame([{\"qid1\": u, \"qid2\": v, \"is_duplicate\": 1} for u, v in new_edges])\n",
    "# q_pairs = pd.concat([q_pairs, df], axis=0)\n",
    "q_pairs = pd.concat([train_df[[\"qid1\", \"qid2\", \"is_duplicate\"]], df], axis=0) # updated\n",
    "q_pairs = q_pairs.sort_values([\"qid1\", \"qid2\"]).reset_index().drop(columns=\"index\")"
   ]
  },
  {
   "cell_type": "code",
   "execution_count": 13,
   "metadata": {},
   "outputs": [
    {
     "data": {
      "text/html": [
       "<div>\n",
       "<style scoped>\n",
       "    .dataframe tbody tr th:only-of-type {\n",
       "        vertical-align: middle;\n",
       "    }\n",
       "\n",
       "    .dataframe tbody tr th {\n",
       "        vertical-align: top;\n",
       "    }\n",
       "\n",
       "    .dataframe thead th {\n",
       "        text-align: right;\n",
       "    }\n",
       "</style>\n",
       "<table border=\"1\" class=\"dataframe\">\n",
       "  <thead>\n",
       "    <tr style=\"text-align: right;\">\n",
       "      <th></th>\n",
       "      <th>qid1</th>\n",
       "      <th>qid2</th>\n",
       "      <th>is_duplicate</th>\n",
       "    </tr>\n",
       "  </thead>\n",
       "  <tbody>\n",
       "    <tr>\n",
       "      <th>0</th>\n",
       "      <td>1</td>\n",
       "      <td>2</td>\n",
       "      <td>0</td>\n",
       "    </tr>\n",
       "    <tr>\n",
       "      <th>1</th>\n",
       "      <td>3</td>\n",
       "      <td>4</td>\n",
       "      <td>0</td>\n",
       "    </tr>\n",
       "    <tr>\n",
       "      <th>2</th>\n",
       "      <td>3</td>\n",
       "      <td>488853</td>\n",
       "      <td>0</td>\n",
       "    </tr>\n",
       "    <tr>\n",
       "      <th>3</th>\n",
       "      <td>4</td>\n",
       "      <td>32881</td>\n",
       "      <td>0</td>\n",
       "    </tr>\n",
       "    <tr>\n",
       "      <th>4</th>\n",
       "      <td>7</td>\n",
       "      <td>8</td>\n",
       "      <td>0</td>\n",
       "    </tr>\n",
       "  </tbody>\n",
       "</table>\n",
       "</div>"
      ],
      "text/plain": [
       "   qid1    qid2  is_duplicate\n",
       "0     1       2             0\n",
       "1     3       4             0\n",
       "2     3  488853             0\n",
       "3     4   32881             0\n",
       "4     7       8             0"
      ]
     },
     "execution_count": 13,
     "metadata": {},
     "output_type": "execute_result"
    }
   ],
   "source": [
    "q_pairs.head()"
   ]
  },
  {
   "cell_type": "code",
   "execution_count": 14,
   "metadata": {},
   "outputs": [],
   "source": [
    "# q_pairs.to_csv(os.path.join(CLEAN_DATA_FOLDER, \"question_pairs.csv\"), index_label=\"id\")\n",
    "q_pairs.to_csv(os.path.join(STAGING_DATA_FOLDER, \"train.csv\"), index_label=\"id\") # updated"
   ]
  },
  {
   "cell_type": "code",
   "execution_count": 15,
   "metadata": {},
   "outputs": [
    {
     "data": {
      "text/plain": [
       "0.5044656497778716"
      ]
     },
     "execution_count": 15,
     "metadata": {},
     "output_type": "execute_result"
    }
   ],
   "source": [
    "# (len(q_pairs)-(q_pairs[\"is_duplicate\"].sum()))/(len(q_pairs))\n",
    "total_pairs = len(q_pairs) + len(validation_df)\n",
    "positive_pairs = q_pairs[\"is_duplicate\"].sum() + validation_df[\"is_duplicate\"].sum()\n",
    "(total_pairs - positive_pairs) / total_pairs # the ratio of 0:1"
   ]
  },
  {
   "cell_type": "markdown",
   "metadata": {},
   "source": [
    "***The balance between 0 and 1 in the (train+validation) set is now 50-50.***"
   ]
  },
  {
   "cell_type": "code",
   "execution_count": 16,
   "metadata": {},
   "outputs": [
    {
     "data": {
      "image/png": "[encoded data removed]",
      "text/plain": [
       "<Figure size 640x480 with 1 Axes>"
      ]
     },
     "metadata": {},
     "output_type": "display_data"
    }
   ],
   "source": [
    "import matplotlib.pyplot as plt\n",
    "\n",
    "# Calculate percentages\n",
    "duplicate_percent = (positive_pairs / total_pairs) * 100\n",
    "non_duplicate_percent = ((total_pairs - positive_pairs) / total_pairs) * 100\n",
    "\n",
    "# Plot the pie chart\n",
    "labels = ['Duplicate', 'Non-duplicate']\n",
    "sizes = [duplicate_percent, non_duplicate_percent]\n",
    "colors = ['#ff9999','#66b3ff']\n",
    "plt.pie(sizes, colors=colors, autopct='%1.1f%%', startangle=90)\n",
    "plt.title('Proportion of Duplicate vs. Non-duplicate Questions')\n",
    "plt.legend(labels, loc='upper right')\n",
    "plt.axis('equal')  # Equal aspect ratio ensures that pie is drawn as a circle.\n",
    "plt.show()"
   ]
  },
  {
   "cell_type": "markdown",
   "metadata": {},
   "source": [
    "## Data Transformation using Fasttext and Glove Embeddings"
   ]
  },
  {
   "cell_type": "markdown",
   "metadata": {},
   "source": [
    "#### Data Transformation Using FastText"
   ]
  },
  {
   "cell_type": "markdown",
   "metadata": {},
   "source": [
    "#### pip install fasttext - to install the helper code for fasttext"
   ]
  },
  {
   "cell_type": "code",
   "execution_count": 17,
   "metadata": {},
   "outputs": [],
   "source": [
    "# 300 is the default embedding dimensions for fasttext.\n",
    "# each word in the vocab will be assigned a 300-dimensional vector\n",
    "embed_dimension = 300"
   ]
  },
  {
   "cell_type": "code",
   "execution_count": 18,
   "metadata": {},
   "outputs": [
    {
     "name": "stderr",
     "output_type": "stream",
     "text": [
      "Warning : `load_model` does not return WordVectorModel or SupervisedModel any more, but a `FastText` object which is very similar.\n"
     ]
    }
   ],
   "source": [
    "# load the fasttext model which contains all the words it has already learned and the corresponding embeddings\n",
    "ft_model = fasttext.load_model(os.path.join(RAW_DATA_FOLDER, \"fasttext.cc.en.300d.bin\"))"
   ]
  },
  {
   "cell_type": "code",
   "execution_count": 19,
   "metadata": {},
   "outputs": [],
   "source": [
    "# Reading vocab.tsv which we created earlier\n",
    "# vocab = pd.read_csv(\n",
    "#     os.path.join(STAGING_DATA_FOLDER, \"vocab.tsv\"),\n",
    "#     sep=\"\\t\",\n",
    "#     index_col=\"id\",\n",
    "#     keep_default_na=False, # n/a can be read/interpreted as null in pandas. So we are telling Pandas dont do it please\n",
    "# )\n",
    "\n",
    "vocab = pd.read_csv(\n",
    "    os.path.join(CLEAN_DATA_FOLDER, \"vocab.tsv\"), # updated\n",
    "    sep=\"\\t\",\n",
    "    index_col=\"id\",\n",
    "    keep_default_na=False, # n/a can be read/interpreted as null in pandas. So we are telling Pandas dont do it please\n",
    ")\n",
    "vocab = vocab[\"token\"].tolist() # stroing all the tokens from vocab.tsv\n",
    "\n",
    "# for token in ft_model.get_words(): # get all the tokens from fasttext embeddings and store it in our vocab variable\n",
    "#     vocab.append(token)\n",
    "# vocab = sorted(set(vocab)) # set function removes the duplicate/ common words from both and sorted will sort them.\n",
    "\n",
    "# we are doing this because fasttext words contains words which are not in our dataset. We are not sure what words are \n",
    "#present in real world or test data. So, better to store everything."
   ]
  },
  {
   "cell_type": "code",
   "execution_count": 20,
   "metadata": {},
   "outputs": [
    {
     "data": {
      "text/plain": [
       "['!',\n",
       " '#',\n",
       " '$',\n",
       " '%',\n",
       " '&',\n",
       " \"'\",\n",
       " \"''\",\n",
       " \"'+\",\n",
       " \"'-\",\n",
       " \"'-=\",\n",
       " \"'00s\",\n",
       " \"'08\",\n",
       " \"'10\",\n",
       " \"'10-4\",\n",
       " \"'100\",\n",
       " \"'10n'.how\",\n",
       " \"'10s\",\n",
       " \"'11\",\n",
       " \"'14\",\n",
       " \"'15\",\n",
       " \"'16\",\n",
       " \"'17\",\n",
       " \"'1729\",\n",
       " \"'1984\",\n",
       " \"'2048\",\n",
       " \"'2k\",\n",
       " \"'363^1/2\",\n",
       " \"'40s\",\n",
       " \"'50\",\n",
       " \"'55\"]"
      ]
     },
     "execution_count": 20,
     "metadata": {},
     "output_type": "execute_result"
    }
   ],
   "source": [
    "vocab[:30]"
   ]
  },
  {
   "cell_type": "code",
   "execution_count": 21,
   "metadata": {},
   "outputs": [
    {
     "data": {
      "text/plain": [
       "['북쪽앟관자키',\n",
       " '분위기',\n",
       " '불타오르네',\n",
       " '슬마',\n",
       " '심하잖아',\n",
       " '이정현',\n",
       " '친구해도',\n",
       " '쾌지나칭칭나네',\n",
       " '하지만',\n",
       " '한글',\n",
       " '\\uf04c',\n",
       " '\\uf09ewhat',\n",
       " '\\uf0b7',\n",
       " 'ﬁnd',\n",
       " '\\ufeff',\n",
       " '\\ufeffcatching',\n",
       " '\\ufefflord',\n",
       " '\\ufeffthe',\n",
       " '！？',\n",
       " '（白左）become',\n",
       " '，how',\n",
       " '，in',\n",
       " '，song',\n",
       " '，what',\n",
       " '，|',\n",
       " '？',\n",
       " '？and',\n",
       " '￦¥§¤㊙㊗',\n",
       " '￼how',\n",
       " '￼what']"
      ]
     },
     "execution_count": 21,
     "metadata": {},
     "output_type": "execute_result"
    }
   ],
   "source": [
    "vocab[-30:]"
   ]
  },
  {
   "cell_type": "code",
   "execution_count": 22,
   "metadata": {},
   "outputs": [],
   "source": [
    "# embeddings = []\n",
    "embeddings = [[0.0] * embed_dimension] # updated, include the default embedding for <pad>\n",
    "for token in vocab:\n",
    "    embeddings.append(ft_model.get_word_vector(token))\n",
    "\n",
    "# This generates word embeddings/vectors for all the words/tokens in vocab variable using fasttext model (ft_model)"
   ]
  },
  {
   "cell_type": "code",
   "execution_count": 23,
   "metadata": {},
   "outputs": [],
   "source": [
    "# # Save two lists, vocab and embeddings, into a tsv file\n",
    "# filepath = os.path.join(CLEAN_DATA_FOLDER, f\"dataset.fasttext.{embed_dimension}d.tsv\")\n",
    "# with open(filepath, \"w\") as fp:\n",
    "#     fp.write(\"id\\ttoken\\tembedding\\n\")\n",
    "#     for idx, token, embedding in zip(list(range(len(embeddings))), vocab, embeddings):\n",
    "#         fp.write(f\"{idx}\\t{token}\\t{' '.join([str(x) for x in embedding])}\\n\")\n",
    "\n",
    "embeddings = np.asarray(embeddings) # updated, convert the embedding list to numpy ndarray\n",
    "np.save(os.path.join(CLEAN_DATA_FOLDER, f\"fasttext.{embed_dimension}d.embeddings.npy\"), embeddings) # updated, save numpy embeddings"
   ]
  },
  {
   "cell_type": "markdown",
   "metadata": {},
   "source": [
    "#### Data Reduction using PCA for FastText Embeddings"
   ]
  },
  {
   "cell_type": "code",
   "execution_count": 24,
   "metadata": {},
   "outputs": [],
   "source": [
    "# each word in the vocab will be assigned a 100-dimensional vector\n",
    "embed_dimension = 100"
   ]
  },
  {
   "cell_type": "code",
   "execution_count": 25,
   "metadata": {},
   "outputs": [],
   "source": [
    "# this does PCA internally\n",
    "if embed_dimension < 300:\n",
    "    fasttext_utils.reduce_model(ft_model, embed_dimension)"
   ]
  },
  {
   "cell_type": "code",
   "execution_count": 26,
   "metadata": {},
   "outputs": [],
   "source": [
    "# Reading vocab.tsv which we created earlier\n",
    "# vocab = pd.read_csv(\n",
    "#     os.path.join(STAGING_DATA_FOLDER, \"vocab.tsv\"),\n",
    "#     sep=\"\\t\",\n",
    "#     index_col=\"id\",\n",
    "#     keep_default_na=False, # n/a can be read/interpreted as null in pandas. So we are telling Pandas dont do it please\n",
    "# )\n",
    "\n",
    "vocab = pd.read_csv(\n",
    "    os.path.join(CLEAN_DATA_FOLDER, \"vocab.tsv\"), # updated\n",
    "    sep=\"\\t\",\n",
    "    index_col=\"id\",\n",
    "    keep_default_na=False, # n/a can be read/interpreted as null in pandas. So we are telling Pandas dont do it please\n",
    ")\n",
    "vocab = vocab[\"token\"].tolist() # stroing all the tokens from vocab.tsv\n",
    "\n",
    "# for token in ft_model.get_words(): # get all the tokens from fasttext embeddings and store it in our vocab variable\n",
    "#     vocab.append(token)\n",
    "# vocab = sorted(set(vocab)) # set function removes the duplicate/ common words from both and sorted will sort them.\n",
    "\n",
    "# we are doing this because fasttext words contains words which are not in our dataset. We are not sure what words are \n",
    "#present in real world or test data. So, better to store everything."
   ]
  },
  {
   "cell_type": "code",
   "execution_count": 27,
   "metadata": {},
   "outputs": [
    {
     "data": {
      "text/plain": [
       "['!',\n",
       " '#',\n",
       " '$',\n",
       " '%',\n",
       " '&',\n",
       " \"'\",\n",
       " \"''\",\n",
       " \"'+\",\n",
       " \"'-\",\n",
       " \"'-=\",\n",
       " \"'00s\",\n",
       " \"'08\",\n",
       " \"'10\",\n",
       " \"'10-4\",\n",
       " \"'100\",\n",
       " \"'10n'.how\",\n",
       " \"'10s\",\n",
       " \"'11\",\n",
       " \"'14\",\n",
       " \"'15\",\n",
       " \"'16\",\n",
       " \"'17\",\n",
       " \"'1729\",\n",
       " \"'1984\",\n",
       " \"'2048\",\n",
       " \"'2k\",\n",
       " \"'363^1/2\",\n",
       " \"'40s\",\n",
       " \"'50\",\n",
       " \"'55\"]"
      ]
     },
     "execution_count": 27,
     "metadata": {},
     "output_type": "execute_result"
    }
   ],
   "source": [
    "vocab[:30]"
   ]
  },
  {
   "cell_type": "code",
   "execution_count": 28,
   "metadata": {},
   "outputs": [],
   "source": [
    "# embeddings = [] \n",
    "embeddings = [[0.0] * embed_dimension] # updated, include the default embedding for <pad>\n",
    "for token in vocab:\n",
    "    embeddings.append(ft_model.get_word_vector(token))\n",
    "\n",
    "# This generates word embeddings/vectors for all the words/tokens in vocab variable using fasttext model (ft_model)"
   ]
  },
  {
   "cell_type": "code",
   "execution_count": 29,
   "metadata": {},
   "outputs": [],
   "source": [
    "# # Save two lists, vocab and embeddings, into a tsv file\n",
    "# filepath = os.path.join(CLEAN_DATA_FOLDER, f\"dataset.fasttext.{embed_dimension}d.tsv\")\n",
    "# with open(filepath, \"w\") as fp:\n",
    "#     fp.write(\"id\\ttoken\\tembedding\\n\")\n",
    "#     for idx, token, embedding in zip(list(range(len(embeddings))), vocab, embeddings):\n",
    "#         fp.write(f\"{idx}\\t{token}\\t{' '.join([str(x) for x in embedding])}\\n\")\n",
    "\n",
    "embeddings = np.asarray(embeddings) # updated, convert the embedding list to numpy ndarray\n",
    "np.save(os.path.join(CLEAN_DATA_FOLDER, f\"fasttext.{embed_dimension}d.embeddings.npy\"), embeddings) # updated, save numpy embeddings"
   ]
  },
  {
   "cell_type": "markdown",
   "metadata": {},
   "source": [
    "difference between fasttext and Glove\n",
    "\n",
    "- fasttext can generate a word embeddings which is not present in it initially. ( thats why we need to install fasttext).\n",
    "\n",
    "- Glove cannot do that. So we might have to use tricks like,\n",
    "1. if we cannot find an embedding for a word we need to split that word into individual tokens that are present in Glove embeddings\n",
    "2. the embedding for this word will be the mean of embeddings created above.\n",
    "3. If we can still not find it the embeddings will be zeros for that word."
   ]
  },
  {
   "cell_type": "markdown",
   "metadata": {},
   "source": [
    "#### Data Transformation using GloVe Embeddings"
   ]
  },
  {
   "cell_type": "code",
   "execution_count": 30,
   "metadata": {},
   "outputs": [],
   "source": [
    "embed_dimension = 300"
   ]
  },
  {
   "cell_type": "code",
   "execution_count": 31,
   "metadata": {},
   "outputs": [],
   "source": [
    "# Loading Glove embedding\n",
    "glove = {}\n",
    "fin = io.open(\n",
    "    os.path.join(RAW_DATA_FOLDER, f\"glove.6B.{embed_dimension}d.txt\"),\n",
    "    \"r\",\n",
    "    encoding=\"utf-8\",\n",
    "    newline=\"\\n\",\n",
    "    errors=\"ignore\",\n",
    ")\n",
    "for line in fin:\n",
    "    tokens = line.rstrip().split(\" \")\n",
    "    glove[tokens[0]] = list(map(float, tokens[1:]))"
   ]
  },
  {
   "cell_type": "code",
   "execution_count": 32,
   "metadata": {},
   "outputs": [],
   "source": [
    "# vocab = pd.read_csv(\n",
    "#     os.path.join(STAGING_DATA_FOLDER, \"vocab.tsv\"),\n",
    "#     sep=\"\\t\",\n",
    "#     index_col=\"id\",\n",
    "#     keep_default_na=False,\n",
    "# )\n",
    "# vocab = [x.lower() for x in vocab[\"token\"].tolist()]\n",
    "\n",
    "vocab = pd.read_csv(\n",
    "    os.path.join(CLEAN_DATA_FOLDER, \"vocab.tsv\"), # updated\n",
    "    sep=\"\\t\",\n",
    "    index_col=\"id\",\n",
    "    keep_default_na=False,\n",
    ")\n",
    "vocab = vocab[\"token\"].tolist() # updated\n",
    "\n",
    "# for token in glove.keys():\n",
    "#     vocab.append(token)\n",
    "# vocab = sorted(set(vocab))"
   ]
  },
  {
   "cell_type": "code",
   "execution_count": 33,
   "metadata": {},
   "outputs": [],
   "source": [
    "# storing words/ tokens in oov which are not present in the glove embeddings\n",
    "oov = []\n",
    "for token in vocab:\n",
    "    if token not in glove:\n",
    "        oov.append(token)\n",
    "oov = sorted(oov, key=len)"
   ]
  },
  {
   "cell_type": "markdown",
   "metadata": {},
   "source": [
    "given a dictionary of word and its embeddings the below function will try to generate an embedding for a word that is not in the given dictionary\n",
    "\n",
    "It does so by first identifying substrings of the word which are present in the dictionary.\n",
    "\n",
    "once the sub strings have been identified the embedding for this new word will be the mean of the substrings.\n",
    "\n",
    "example - tiktoken - the substrings will be tik and token.\n",
    "\n",
    "tik will have a vector embedding of 100 or 300 dimension [ ]\n",
    "token will have a vector embedding of 100 or 300 dimension [ ]\n",
    "the mean of both the vectors is generated/calculated and that is the vector embedding for tiktoken"
   ]
  },
  {
   "cell_type": "code",
   "execution_count": 34,
   "metadata": {},
   "outputs": [],
   "source": [
    "def find_words_from_dict(dictionary, input_string):\n",
    "    n = len(input_string)\n",
    "    dp = [False] * (n + 1)\n",
    "    dp[0] = True\n",
    "    parent = [-1] * (\n",
    "        n + 1\n",
    "    )  # To store the starting index of the word that ends at position i\n",
    "\n",
    "    # Filling dp array\n",
    "    for i in range(1, n + 1):\n",
    "        for j in range(i):\n",
    "            if dp[j] and input_string[j:i] in dictionary:\n",
    "                dp[i] = True\n",
    "                parent[i] = j\n",
    "                break\n",
    "\n",
    "    # If dp[n] is False, it's not possible to construct the string\n",
    "    if not dp[-1]:\n",
    "        return -1\n",
    "\n",
    "    # Recovering the words from the input string\n",
    "    result = [0] * embed_dimension\n",
    "    current = n\n",
    "    count = 0\n",
    "    while current > 0:\n",
    "        start = parent[current]\n",
    "        word = input_string[start:current]\n",
    "        result = [result[i] + dictionary[word][i] for i in range(embed_dimension)]\n",
    "        count += 1\n",
    "        current = start\n",
    "\n",
    "    return [x / count for x in result]"
   ]
  },
  {
   "cell_type": "code",
   "execution_count": 35,
   "metadata": {},
   "outputs": [],
   "source": [
    "#if the above function returns -1 then storing those words/ tokens in ooov\n",
    "ooov = []\n",
    "for oov_token in oov:\n",
    "    embedding = find_words_from_dict(glove, oov_token)\n",
    "    if embedding == -1:\n",
    "        ooov.append(oov_token)\n",
    "    # else: # if embeddings are returned (mean), storing then in glove dictionary\n",
    "    #     glove[oov_token] = embedding\n",
    "ooov = sorted(ooov, key=len)"
   ]
  },
  {
   "cell_type": "code",
   "execution_count": 36,
   "metadata": {},
   "outputs": [],
   "source": [
    "# embeddings = []\n",
    "embeddings = [[0.0] * embed_dimension] # updated, include the default embedding for <pad>\n",
    "for token in vocab:\n",
    "    if token in glove:\n",
    "        embeddings.append(glove[token])\n",
    "    elif token in ooov:\n",
    "        embeddings.append([0.0] * embed_dimension) # for word still not having embedding\n",
    "    else:\n",
    "        embeddings.append(find_words_from_dict(glove, token))"
   ]
  },
  {
   "cell_type": "code",
   "execution_count": 37,
   "metadata": {},
   "outputs": [],
   "source": [
    "# with open(os.path.join(CLEAN_DATA_FOLDER, f\"dataset.glove.{embed_dimension}d.tsv\"), \"w\") as fp:\n",
    "#     fp.write(\"id\\ttoken\\tembedding\\n\")\n",
    "#     for idx, token, embedding in zip(list(range(len(embeddings))), vocab, embeddings):\n",
    "#         fp.write(f\"{idx}\\t{token}\\t{' '.join([str(x) for x in embedding])}\\n\")\n",
    "\n",
    "embeddings = np.asarray(embeddings) # updated, convert the embedding list to numpy ndarray\n",
    "np.save(os.path.join(CLEAN_DATA_FOLDER, f\"glove.{embed_dimension}d.embeddings.npy\"), embeddings) # updated, save numpy embeddings"
   ]
  },
  {
   "cell_type": "markdown",
   "metadata": {},
   "source": [
    "#### Data Reduction using PCA for GloVe Embeddings however 100d is already available"
   ]
  },
  {
   "cell_type": "code",
   "execution_count": 38,
   "metadata": {},
   "outputs": [],
   "source": [
    "embed_dimension = 100"
   ]
  },
  {
   "cell_type": "code",
   "execution_count": 39,
   "metadata": {},
   "outputs": [],
   "source": [
    "# Loading Glove embedding\n",
    "glove = {}\n",
    "fin = io.open(\n",
    "    os.path.join(RAW_DATA_FOLDER, f\"glove.6B.{embed_dimension}d.txt\"),\n",
    "    \"r\",\n",
    "    encoding=\"utf-8\",\n",
    "    newline=\"\\n\",\n",
    "    errors=\"ignore\",\n",
    ")\n",
    "for line in fin:\n",
    "    tokens = line.rstrip().split(\" \")\n",
    "    glove[tokens[0]] = list(map(float, tokens[1:]))"
   ]
  },
  {
   "cell_type": "code",
   "execution_count": 40,
   "metadata": {},
   "outputs": [],
   "source": [
    "# vocab = pd.read_csv(\n",
    "#     os.path.join(STAGING_DATA_FOLDER, \"vocab.tsv\"),\n",
    "#     sep=\"\\t\",\n",
    "#     index_col=\"id\",\n",
    "#     keep_default_na=False,\n",
    "# )\n",
    "# vocab = [x.lower() for x in vocab[\"token\"].tolist()]\n",
    "\n",
    "vocab = pd.read_csv(\n",
    "    os.path.join(CLEAN_DATA_FOLDER, \"vocab.tsv\"), # updated\n",
    "    sep=\"\\t\",\n",
    "    index_col=\"id\",\n",
    "    keep_default_na=False,\n",
    ")\n",
    "vocab = vocab[\"token\"].tolist() # updated\n",
    "\n",
    "# for token in glove.keys():\n",
    "#     vocab.append(token)\n",
    "# vocab = sorted(set(vocab))"
   ]
  },
  {
   "cell_type": "code",
   "execution_count": 41,
   "metadata": {},
   "outputs": [],
   "source": [
    "# storing words/ tokens in oov which are not present in the glove embeddings\n",
    "oov = []\n",
    "for token in vocab:\n",
    "    if token not in glove:\n",
    "        oov.append(token)\n",
    "oov = sorted(oov, key=len)"
   ]
  },
  {
   "cell_type": "code",
   "execution_count": 42,
   "metadata": {},
   "outputs": [],
   "source": [
    "def find_words_from_dict(dictionary, input_string):\n",
    "    n = len(input_string)\n",
    "    dp = [False] * (n + 1)\n",
    "    dp[0] = True\n",
    "    parent = [-1] * (\n",
    "        n + 1\n",
    "    )  # To store the starting index of the word that ends at position i\n",
    "\n",
    "    # Filling dp array\n",
    "    for i in range(1, n + 1):\n",
    "        for j in range(i):\n",
    "            if dp[j] and input_string[j:i] in dictionary:\n",
    "                dp[i] = True\n",
    "                parent[i] = j\n",
    "                break\n",
    "\n",
    "    # If dp[n] is False, it's not possible to construct the string\n",
    "    if not dp[-1]:\n",
    "        return -1\n",
    "\n",
    "    # Recovering the words from the input string\n",
    "    result = [0] * embed_dimension\n",
    "    current = n\n",
    "    count = 0\n",
    "    while current > 0:\n",
    "        start = parent[current]\n",
    "        word = input_string[start:current]\n",
    "        result = [result[i] + dictionary[word][i] for i in range(embed_dimension)]\n",
    "        count += 1\n",
    "        current = start\n",
    "\n",
    "    return [x / count for x in result]"
   ]
  },
  {
   "cell_type": "code",
   "execution_count": 43,
   "metadata": {},
   "outputs": [],
   "source": [
    "#if the above function returns -1 then storing those words/ tokens in ooov\n",
    "ooov = []\n",
    "for oov_token in oov:\n",
    "    embedding = find_words_from_dict(glove, oov_token)\n",
    "    if embedding == -1:\n",
    "        ooov.append(oov_token)\n",
    "    # else: # if embeddings are returned (mean), storing then in glove dictionary\n",
    "    #     glove[oov_token] = embedding\n",
    "ooov = sorted(ooov, key=len)"
   ]
  },
  {
   "cell_type": "code",
   "execution_count": 44,
   "metadata": {},
   "outputs": [],
   "source": [
    "# embeddings = []\n",
    "embeddings = [[0.0] * embed_dimension] # updated, include the default embedding for <pad>\n",
    "for token in vocab:\n",
    "    if token in glove:\n",
    "        embeddings.append(glove[token])\n",
    "    elif token in ooov:\n",
    "        embeddings.append([0.0] * embed_dimension) # for word still not having embedding\n",
    "    else:\n",
    "        embeddings.append(find_words_from_dict(glove, token))"
   ]
  },
  {
   "cell_type": "code",
   "execution_count": 45,
   "metadata": {},
   "outputs": [],
   "source": [
    "# with open(os.path.join(CLEAN_DATA_FOLDER, f\"dataset.glove.{embed_dimension}d.tsv\"), \"w\") as fp:\n",
    "#     fp.write(\"id\\ttoken\\tembedding\\n\")\n",
    "#     for idx, token, embedding in zip(list(range(len(embeddings))), vocab, embeddings):\n",
    "#         fp.write(f\"{idx}\\t{token}\\t{' '.join([str(x) for x in embedding])}\\n\")\n",
    "\n",
    "embeddings = np.asarray(embeddings) # updated, convert the embedding list to numpy ndarray\n",
    "np.save(os.path.join(CLEAN_DATA_FOLDER, f\"glove.{embed_dimension}d.embeddings.npy\"), embeddings) # updated, save numpy embeddings"
   ]
  }
 ],
 "metadata": {
  "kernelspec": {
   "display_name": "base",
   "language": "python",
   "name": "python3"
  },
  "language_info": {
   "codemirror_mode": {
    "name": "ipython",
    "version": 3
   },
   "file_extension": ".py",
   "mimetype": "text/x-python",
   "name": "python",
   "nbconvert_exporter": "python",
   "pygments_lexer": "ipython3",
   "version": "3.11.9"
  }
 },
 "nbformat": 4,
 "nbformat_minor": 2
}
