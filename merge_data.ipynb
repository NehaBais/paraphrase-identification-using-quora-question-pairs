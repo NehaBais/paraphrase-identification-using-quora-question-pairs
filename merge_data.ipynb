{
 "cells": [
  {
   "cell_type": "code",
   "execution_count": 1,
   "metadata": {},
   "outputs": [],
   "source": [
    "import pandas as pd\n",
    "import os"
   ]
  },
  {
   "cell_type": "code",
   "execution_count": 2,
   "metadata": {},
   "outputs": [],
   "source": [
    "STAGING_DATA_FOLDER = \"staging_data\"\n",
    "CLEAN_DATA_FOLDER = \"clean_data\""
   ]
  },
  {
   "cell_type": "code",
   "execution_count": 3,
   "metadata": {},
   "outputs": [],
   "source": [
    "qs = pd.read_csv(os.path.join(STAGING_DATA_FOLDER, \"questions.tsv\"), sep=\"\\t\")\n",
    "train = pd.read_csv(os.path.join(STAGING_DATA_FOLDER, \"train.csv\"))\n",
    "validation = pd.read_csv(os.path.join(STAGING_DATA_FOLDER, \"validation.csv\"))\n",
    "test = pd.read_csv(os.path.join(STAGING_DATA_FOLDER, \"test.csv\"))"
   ]
  },
  {
   "cell_type": "code",
   "execution_count": 4,
   "metadata": {},
   "outputs": [],
   "source": [
    "train = (\n",
    "    train.merge(qs, how=\"left\", left_on=\"qid1\", right_on=\"qid\")\n",
    "    .rename(columns={\"question\": \"question1\"})\n",
    "    .drop(columns=\"qid1\")\n",
    "    .merge(qs, how=\"left\", left_on=\"qid2\", right_on=\"qid\")\n",
    "    .rename(columns={\"question\": \"question2\"})\n",
    "    .drop(columns=\"qid2\")[[\"question1\", \"question2\", \"is_duplicate\"]]\n",
    ")"
   ]
  },
  {
   "cell_type": "code",
   "execution_count": 5,
   "metadata": {},
   "outputs": [],
   "source": [
    "validation = (\n",
    "    validation.merge(qs, how=\"left\", left_on=\"qid1\", right_on=\"qid\")\n",
    "    .rename(columns={\"question\": \"question1\"})\n",
    "    .drop(columns=\"qid1\")\n",
    "    .merge(qs, how=\"left\", left_on=\"qid2\", right_on=\"qid\")\n",
    "    .rename(columns={\"question\": \"question2\"})\n",
    "    .drop(columns=\"qid2\")[[\"question1\", \"question2\", \"is_duplicate\"]]\n",
    ")"
   ]
  },
  {
   "cell_type": "code",
   "execution_count": 6,
   "metadata": {},
   "outputs": [],
   "source": [
    "test = (\n",
    "    test.merge(qs, how=\"left\", left_on=\"qid1\", right_on=\"qid\")\n",
    "    .rename(columns={\"question\": \"question1\"})\n",
    "    .drop(columns=\"qid1\")\n",
    "    .merge(qs, how=\"left\", left_on=\"qid2\", right_on=\"qid\")\n",
    "    .rename(columns={\"question\": \"question2\"})\n",
    "    .drop(columns=\"qid2\")[[\"question1\", \"question2\", \"is_duplicate\"]]\n",
    ")"
   ]
  },
  {
   "cell_type": "code",
   "execution_count": 7,
   "metadata": {},
   "outputs": [],
   "source": [
    "train.to_csv(os.path.join(CLEAN_DATA_FOLDER, \"train.tsv\"), sep=\"\\t\", index=False)\n",
    "validation.to_csv(os.path.join(CLEAN_DATA_FOLDER, \"validation.tsv\"), sep=\"\\t\", index=False)\n",
    "test.to_csv(os.path.join(CLEAN_DATA_FOLDER, \"test.tsv\"), sep=\"\\t\", index=False)"
   ]
  }
 ],
 "metadata": {
  "kernelspec": {
   "display_name": "base",
   "language": "python",
   "name": "python3"
  },
  "language_info": {
   "codemirror_mode": {
    "name": "ipython",
    "version": 3
   },
   "file_extension": ".py",
   "mimetype": "text/x-python",
   "name": "python",
   "nbconvert_exporter": "python",
   "pygments_lexer": "ipython3",
   "version": "3.11.9"
  }
 },
 "nbformat": 4,
 "nbformat_minor": 2
}
